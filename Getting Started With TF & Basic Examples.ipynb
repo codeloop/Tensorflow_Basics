{
 "cells": [
  {
   "cell_type": "code",
   "execution_count": 1,
   "metadata": {
    "collapsed": true
   },
   "outputs": [],
   "source": [
    "import tensorflow as tf\n",
    "import numpy as np\n",
    "import matplotlib.pyplot as plt\n",
    "%matplotlib inline"
   ]
  },
  {
   "cell_type": "code",
   "execution_count": 2,
   "metadata": {
    "collapsed": true
   },
   "outputs": [],
   "source": [
    "a = tf.constant(1)\n",
    "b = tf.constant(2)"
   ]
  },
  {
   "cell_type": "code",
   "execution_count": 3,
   "metadata": {
    "collapsed": false
   },
   "outputs": [
    {
     "name": "stdout",
     "output_type": "stream",
     "text": [
      "a=1, b=2\n",
      "Addition with constants: 3\n",
      "Multiplication with constants: 2\n"
     ]
    }
   ],
   "source": [
    "with tf.Session() as sess:\n",
    "    print(\"a=1, b=2\")\n",
    "    print(\"Addition with constants: %d\" % sess.run(a+b))\n",
    "    print(\"Multiplication with constants: %d\" % sess.run(a*b))"
   ]
  },
  {
   "cell_type": "code",
   "execution_count": 4,
   "metadata": {
    "collapsed": true
   },
   "outputs": [],
   "source": [
    "a = tf.placeholder(tf.int16)\n",
    "b = tf.placeholder(tf.int16)\n",
    "add = tf.add(a, b)\n",
    "mul = tf.mul(a, b)"
   ]
  },
  {
   "cell_type": "code",
   "execution_count": 5,
   "metadata": {
    "collapsed": false
   },
   "outputs": [
    {
     "name": "stdout",
     "output_type": "stream",
     "text": [
      "Addition with variables: 5\n",
      "Multiplication with variables: 6\n"
     ]
    }
   ],
   "source": [
    "with tf.Session() as sess:\n",
    "    print(\"Addition with variables: %i\" % sess.run(add, feed_dict={a: 2, b: 3}))\n",
    "    print(\"Multiplication with variables: %i\" % sess.run(mul, feed_dict={a: 2, b: 3}))"
   ]
  },
  {
   "cell_type": "code",
   "execution_count": 6,
   "metadata": {
    "collapsed": false
   },
   "outputs": [
    {
     "name": "stdout",
     "output_type": "stream",
     "text": [
      "[[ 12.]]\n"
     ]
    }
   ],
   "source": [
    "matrix1 = tf.constant([[3., 3.]])\n",
    "matrix2 = tf.constant([[2.],[2.]])\n",
    "product = tf.matmul(matrix1, matrix2)\n",
    "with tf.Session() as sess:\n",
    "    result = sess.run(product)\n",
    "    print(result)"
   ]
  },
  {
   "cell_type": "code",
   "execution_count": 7,
   "metadata": {
    "collapsed": false
   },
   "outputs": [
    {
     "name": "stdout",
     "output_type": "stream",
     "text": [
      "Hello, TensorFlow!\n"
     ]
    }
   ],
   "source": [
    "hello = tf.constant(\"Hello, TensorFlow!\")\n",
    "with tf.Session() as sess:\n",
    "    print(sess.run(hello).decode(\"utf-8\"))"
   ]
  },
  {
   "cell_type": "markdown",
   "metadata": {},
   "source": [
    "## Linear Regression"
   ]
  },
  {
   "cell_type": "code",
   "execution_count": 8,
   "metadata": {
    "collapsed": true
   },
   "outputs": [],
   "source": [
    "learning_rate = 0.01\n",
    "training_epochs = 1000\n",
    "display_step = 50"
   ]
  },
  {
   "cell_type": "code",
   "execution_count": 9,
   "metadata": {
    "collapsed": false
   },
   "outputs": [],
   "source": [
    "train_X = np.asarray([3.3,4.4,5.5,6.71,6.93,4.168,9.779,6.182,7.59,2.167,\n",
    "                         7.042,10.791,5.313,7.997,5.654,9.27,3.1])\n",
    "train_Y = np.asarray([1.7,2.76,2.09,3.19,1.694,1.573,3.366,2.596,2.53,1.221,\n",
    "                         2.827,3.465,1.65,2.904,2.42,2.94,1.3])\n",
    "n_samples = train_X.shape[0]"
   ]
  },
  {
   "cell_type": "code",
   "execution_count": 10,
   "metadata": {
    "collapsed": false
   },
   "outputs": [],
   "source": [
    "X = tf.placeholder(\"float\")\n",
    "Y = tf.placeholder(\"float\")\n",
    "\n",
    "W = tf.Variable(np.random.randn(), name=\"weight\")\n",
    "b = tf.Variable(np.random.randn(), name=\"bias\")"
   ]
  },
  {
   "cell_type": "code",
   "execution_count": 11,
   "metadata": {
    "collapsed": true
   },
   "outputs": [],
   "source": [
    "pred = tf.add(tf.mul(X, W), b)\n",
    "cost = tf.reduce_sum(tf.pow(pred-Y, 2))/(2*n_samples)\n",
    "optimizer = tf.train.GradientDescentOptimizer(learning_rate).minimize(cost)"
   ]
  },
  {
   "cell_type": "code",
   "execution_count": 12,
   "metadata": {
    "collapsed": false
   },
   "outputs": [
    {
     "name": "stdout",
     "output_type": "stream",
     "text": [
      "Epoch: 0050 cost= 0.452554256 W= 0.592067 b= -1.66226\n",
      "Epoch: 0100 cost= 0.409180790 W= 0.571698 b= -1.51573\n",
      "Epoch: 0150 cost= 0.370815128 W= 0.552541 b= -1.37792\n",
      "Epoch: 0200 cost= 0.336878747 W= 0.534524 b= -1.2483\n",
      "Epoch: 0250 cost= 0.306860864 W= 0.517577 b= -1.12639\n",
      "Epoch: 0300 cost= 0.280308962 W= 0.501639 b= -1.01173\n",
      "Epoch: 0350 cost= 0.256822348 W= 0.486649 b= -0.903893\n",
      "Epoch: 0400 cost= 0.236047685 W= 0.47255 b= -0.802466\n",
      "Epoch: 0450 cost= 0.217672154 W= 0.45929 b= -0.707074\n",
      "Epoch: 0500 cost= 0.201418385 W= 0.446818 b= -0.617354\n",
      "Epoch: 0550 cost= 0.187041551 W= 0.435089 b= -0.532971\n",
      "Epoch: 0600 cost= 0.174324885 W= 0.424056 b= -0.453606\n",
      "Epoch: 0650 cost= 0.163076788 W= 0.41368 b= -0.378961\n",
      "Epoch: 0700 cost= 0.153127789 W= 0.403921 b= -0.308755\n",
      "Epoch: 0750 cost= 0.144327715 W= 0.394743 b= -0.242725\n",
      "Epoch: 0800 cost= 0.136544093 W= 0.38611 b= -0.180622\n",
      "Epoch: 0850 cost= 0.129659534 W= 0.377991 b= -0.122213\n",
      "Epoch: 0900 cost= 0.123570189 W= 0.370354 b= -0.0672771\n",
      "Epoch: 0950 cost= 0.118184268 W= 0.363172 b= -0.0156088\n",
      "Epoch: 1000 cost= 0.113420554 W= 0.356417 b= 0.0329866\n",
      "Optimization Finished!\n",
      "Training cost= 0.113421 W= 0.356417 b= 0.0329866 \n",
      "\n"
     ]
    },
    {
     "data": {
      "image/png": "[encoded data removed]",
      "text/plain": [
       "<matplotlib.figure.Figure at 0x1aa0d17aa20>"
      ]
     },
     "metadata": {},
     "output_type": "display_data"
    }
   ],
   "source": [
    "init = tf.global_variables_initializer()\n",
    "with tf.Session() as sess:\n",
    "    sess.run(init)\n",
    "\n",
    "    # Fit all training data\n",
    "    for epoch in range(training_epochs):\n",
    "        for (x, y) in zip(train_X, train_Y):\n",
    "            sess.run(optimizer, feed_dict={X: x, Y: y})\n",
    "\n",
    "        #Display logs per epoch step\n",
    "        if (epoch+1) % display_step == 0:\n",
    "            c = sess.run(cost, feed_dict={X: train_X, Y:train_Y})\n",
    "            print( \"Epoch:\", '%04d' % (epoch+1), \"cost=\", \"{:.9f}\".format(c), \\\n",
    "                \"W=\", sess.run(W), \"b=\", sess.run(b))\n",
    "\n",
    "    print(\"Optimization Finished!\")\n",
    "    training_cost = sess.run(cost, feed_dict={X: train_X, Y: train_Y})\n",
    "    print(\"Training cost=\", training_cost, \"W=\", sess.run(W), \"b=\", sess.run(b), '\\n')\n",
    "\n",
    "    #Graphic display\n",
    "    plt.plot(train_X, train_Y, 'ro', label='Original data')\n",
    "    plt.plot(train_X, sess.run(W) * train_X + sess.run(b), label='Fitted line')\n",
    "    plt.legend()\n",
    "    plt.show()"
   ]
  },
  {
   "cell_type": "markdown",
   "metadata": {},
   "source": [
    "## Logistic Regression"
   ]
  },
  {
   "cell_type": "code",
   "execution_count": 13,
   "metadata": {
    "collapsed": false
   },
   "outputs": [
    {
     "name": "stdout",
     "output_type": "stream",
     "text": [
      "Extracting /tmp/data/train-images-idx3-ubyte.gz\n",
      "Extracting /tmp/data/train-labels-idx1-ubyte.gz\n",
      "Extracting /tmp/data/t10k-images-idx3-ubyte.gz\n",
      "Extracting /tmp/data/t10k-labels-idx1-ubyte.gz\n"
     ]
    }
   ],
   "source": [
    "from tensorflow.examples.tutorials.mnist import input_data\n",
    "mnist = input_data.read_data_sets(\"/tmp/data/\", one_hot=True)"
   ]
  },
  {
   "cell_type": "code",
   "execution_count": 14,
   "metadata": {
    "collapsed": true
   },
   "outputs": [],
   "source": [
    "learning_rate = 0.01\n",
    "training_epochs = 25\n",
    "batch_size = 100\n",
    "display_step = 1"
   ]
  },
  {
   "cell_type": "code",
   "execution_count": 15,
   "metadata": {
    "collapsed": false
   },
   "outputs": [],
   "source": [
    "x = tf.placeholder(tf.float32, [None, 784]) # mnist data image of shape 28*28=784\n",
    "y = tf.placeholder(tf.float32, [None, 10]) # 0-9 digits recognition => 10 classes\n",
    "\n",
    "# Set model weights\n",
    "W = tf.Variable(tf.zeros([784, 10]))\n",
    "b = tf.Variable(tf.zeros([10]))\n",
    "\n",
    "# Construct model\n",
    "pred = tf.nn.softmax(tf.matmul(x, W) + b) # Softmax\n",
    "\n",
    "# Minimize error using cross entropy\n",
    "cost = tf.reduce_mean(-tf.reduce_sum(y*tf.log(pred), reduction_indices=1))\n",
    "# Gradient Descent\n",
    "optimizer = tf.train.GradientDescentOptimizer(learning_rate).minimize(cost)\n",
    "\n",
    "# Initializing the variables\n",
    "init = tf.global_variables_initializer()"
   ]
  },
  {
   "cell_type": "code",
   "execution_count": 16,
   "metadata": {
    "collapsed": false
   },
   "outputs": [
    {
     "name": "stdout",
     "output_type": "stream",
     "text": [
      "Epoch: 0001 cost= 1.182138977\n",
      "Epoch: 0002 cost= 0.664741491\n",
      "Epoch: 0003 cost= 0.552596705\n",
      "Epoch: 0004 cost= 0.498578697\n",
      "Epoch: 0005 cost= 0.465453126\n",
      "Epoch: 0006 cost= 0.442545520\n",
      "Epoch: 0007 cost= 0.425524179\n",
      "Epoch: 0008 cost= 0.412158314\n",
      "Epoch: 0009 cost= 0.401341256\n",
      "Epoch: 0010 cost= 0.392413241\n",
      "Epoch: 0011 cost= 0.384750766\n",
      "Epoch: 0012 cost= 0.378126123\n",
      "Epoch: 0013 cost= 0.372350748\n",
      "Epoch: 0014 cost= 0.367287024\n",
      "Epoch: 0015 cost= 0.362733242\n",
      "Epoch: 0016 cost= 0.358612278\n",
      "Epoch: 0017 cost= 0.354871403\n",
      "Epoch: 0018 cost= 0.351437844\n",
      "Epoch: 0019 cost= 0.348314650\n",
      "Epoch: 0020 cost= 0.345403774\n",
      "Epoch: 0021 cost= 0.342749975\n",
      "Epoch: 0022 cost= 0.340260535\n",
      "Epoch: 0023 cost= 0.337889766\n",
      "Epoch: 0024 cost= 0.335730529\n",
      "Epoch: 0025 cost= 0.333712942\n",
      "Optimization Finished!\n",
      "Accuracy: 0.889\n"
     ]
    }
   ],
   "source": [
    "with tf.Session() as sess:\n",
    "    sess.run(init)\n",
    "\n",
    "    # Training cycle\n",
    "    for epoch in range(training_epochs):\n",
    "        avg_cost = 0.\n",
    "        total_batch = int(mnist.train.num_examples/batch_size)\n",
    "        # Loop over all batches\n",
    "        for i in range(total_batch):\n",
    "            batch_xs, batch_ys = mnist.train.next_batch(batch_size)\n",
    "            # Fit training using batch data\n",
    "            _, c = sess.run([optimizer, cost], feed_dict={x: batch_xs,\n",
    "                                                          y: batch_ys})\n",
    "            # Compute average loss\n",
    "            avg_cost += c / total_batch\n",
    "        # Display logs per epoch step\n",
    "        if (epoch+1) % display_step == 0:\n",
    "            print(\"Epoch:\", '%04d' % (epoch+1), \"cost=\", \"{:.9f}\".format(avg_cost))\n",
    "\n",
    "    print(\"Optimization Finished!\")\n",
    "\n",
    "    # Test model\n",
    "    correct_prediction = tf.equal(tf.argmax(pred, 1), tf.argmax(y, 1))\n",
    "    # Calculate accuracy for 3000 examples\n",
    "    accuracy = tf.reduce_mean(tf.cast(correct_prediction, tf.float32))\n",
    "    print(\"Accuracy:\", accuracy.eval({x: mnist.test.images[:3000], y: mnist.test.labels[:3000]}))"
   ]
  },
  {
   "cell_type": "markdown",
   "metadata": {},
   "source": [
    "## Nearest Neighbor"
   ]
  },
  {
   "cell_type": "code",
   "execution_count": 17,
   "metadata": {
    "collapsed": false
   },
   "outputs": [
    {
     "name": "stdout",
     "output_type": "stream",
     "text": [
      "Extracting /tmp/data/train-images-idx3-ubyte.gz\n",
      "Extracting /tmp/data/train-labels-idx1-ubyte.gz\n",
      "Extracting /tmp/data/t10k-images-idx3-ubyte.gz\n",
      "Extracting /tmp/data/t10k-labels-idx1-ubyte.gz\n"
     ]
    }
   ],
   "source": [
    "mnist = input_data.read_data_sets(\"/tmp/data/\", one_hot=True)\n",
    "Xtr, Ytr = mnist.train.next_batch(5000) #5000 for training (nn candidates)\n",
    "Xte, Yte = mnist.test.next_batch(200) #200 for testing\n",
    "\n",
    "# tf Graph Input\n",
    "xtr = tf.placeholder(\"float\", [None, 784])\n",
    "xte = tf.placeholder(\"float\", [784])\n",
    "\n",
    "# Nearest Neighbor calculation using L1 Distance\n",
    "# Calculate L1 Distance\n",
    "distance = tf.reduce_sum(tf.abs(tf.add(xtr, tf.neg(xte))), reduction_indices=1)\n",
    "# Prediction: Get min distance index (Nearest neighbor)\n",
    "pred = tf.arg_min(distance, 0)\n",
    "\n",
    "accuracy = 0.\n",
    "\n",
    "# Initializing the variables\n",
    "init = tf.global_variables_initializer()"
   ]
  },
  {
   "cell_type": "code",
   "execution_count": 18,
   "metadata": {
    "collapsed": false
   },
   "outputs": [],
   "source": [
    "Xtr, Ytr = mnist.train.next_batch(5000) #5000 for training (nn candidates)\n",
    "Xte, Yte = mnist.test.next_batch(200) #200 for testing\n",
    "\n",
    "# tf Graph Input\n",
    "xtr = tf.placeholder(\"float\", [None, 784])\n",
    "xte = tf.placeholder(\"float\", [784])\n",
    "\n",
    "# Nearest Neighbor calculation using L1 Distance\n",
    "# Calculate L1 Distance\n",
    "distance = tf.reduce_sum(tf.abs(tf.add(xtr, tf.neg(xte))), reduction_indices=1)\n",
    "# Prediction: Get min distance index (Nearest neighbor)\n",
    "pred = tf.arg_min(distance, 0)\n",
    "\n",
    "accuracy = 0.\n",
    "\n",
    "# Initializing the variables\n",
    "init = tf.global_variables_initializer()"
   ]
  },
  {
   "cell_type": "code",
   "execution_count": 19,
   "metadata": {
    "collapsed": false
   },
   "outputs": [
    {
     "name": "stdout",
     "output_type": "stream",
     "text": [
      "Test 0 Prediction: 3 True Class: 3\n",
      "Test 1 Prediction: 6 True Class: 6\n",
      "Test 2 Prediction: 1 True Class: 1\n",
      "Test 3 Prediction: 1 True Class: 1\n",
      "Test 4 Prediction: 1 True Class: 1\n",
      "Test 5 Prediction: 3 True Class: 3\n",
      "Test 6 Prediction: 9 True Class: 9\n",
      "Test 7 Prediction: 5 True Class: 5\n",
      "Test 8 Prediction: 2 True Class: 2\n",
      "Test 9 Prediction: 9 True Class: 9\n",
      "Test 10 Prediction: 4 True Class: 4\n",
      "Test 11 Prediction: 5 True Class: 5\n",
      "Test 12 Prediction: 9 True Class: 9\n",
      "Test 13 Prediction: 3 True Class: 3\n",
      "Test 14 Prediction: 9 True Class: 9\n",
      "Test 15 Prediction: 0 True Class: 0\n",
      "Test 16 Prediction: 3 True Class: 3\n",
      "Test 17 Prediction: 5 True Class: 6\n",
      "Test 18 Prediction: 5 True Class: 5\n",
      "Test 19 Prediction: 3 True Class: 5\n",
      "Test 20 Prediction: 7 True Class: 7\n",
      "Test 21 Prediction: 2 True Class: 2\n",
      "Test 22 Prediction: 2 True Class: 2\n",
      "Test 23 Prediction: 7 True Class: 7\n",
      "Test 24 Prediction: 1 True Class: 1\n",
      "Test 25 Prediction: 3 True Class: 2\n",
      "Test 26 Prediction: 8 True Class: 8\n",
      "Test 27 Prediction: 4 True Class: 4\n",
      "Test 28 Prediction: 1 True Class: 1\n",
      "Test 29 Prediction: 7 True Class: 7\n",
      "Test 30 Prediction: 3 True Class: 3\n",
      "Test 31 Prediction: 3 True Class: 3\n",
      "Test 32 Prediction: 8 True Class: 8\n",
      "Test 33 Prediction: 8 True Class: 8\n",
      "Test 34 Prediction: 7 True Class: 7\n",
      "Test 35 Prediction: 9 True Class: 9\n",
      "Test 36 Prediction: 2 True Class: 2\n",
      "Test 37 Prediction: 2 True Class: 2\n",
      "Test 38 Prediction: 4 True Class: 4\n",
      "Test 39 Prediction: 1 True Class: 1\n",
      "Test 40 Prediction: 5 True Class: 5\n",
      "Test 41 Prediction: 8 True Class: 9\n",
      "Test 42 Prediction: 8 True Class: 8\n",
      "Test 43 Prediction: 7 True Class: 7\n",
      "Test 44 Prediction: 2 True Class: 2\n",
      "Test 45 Prediction: 1 True Class: 3\n",
      "Test 46 Prediction: 0 True Class: 0\n",
      "Test 47 Prediction: 6 True Class: 4\n",
      "Test 48 Prediction: 4 True Class: 4\n",
      "Test 49 Prediction: 2 True Class: 2\n",
      "Test 50 Prediction: 9 True Class: 4\n",
      "Test 51 Prediction: 1 True Class: 1\n",
      "Test 52 Prediction: 9 True Class: 9\n",
      "Test 53 Prediction: 5 True Class: 5\n",
      "Test 54 Prediction: 7 True Class: 7\n",
      "Test 55 Prediction: 7 True Class: 7\n",
      "Test 56 Prediction: 2 True Class: 2\n",
      "Test 57 Prediction: 8 True Class: 8\n",
      "Test 58 Prediction: 2 True Class: 2\n",
      "Test 59 Prediction: 6 True Class: 6\n",
      "Test 60 Prediction: 8 True Class: 8\n",
      "Test 61 Prediction: 5 True Class: 5\n",
      "Test 62 Prediction: 7 True Class: 7\n",
      "Test 63 Prediction: 7 True Class: 7\n",
      "Test 64 Prediction: 4 True Class: 9\n",
      "Test 65 Prediction: 1 True Class: 1\n",
      "Test 66 Prediction: 8 True Class: 8\n",
      "Test 67 Prediction: 1 True Class: 1\n",
      "Test 68 Prediction: 5 True Class: 8\n",
      "Test 69 Prediction: 0 True Class: 0\n",
      "Test 70 Prediction: 3 True Class: 3\n",
      "Test 71 Prediction: 0 True Class: 0\n",
      "Test 72 Prediction: 1 True Class: 1\n",
      "Test 73 Prediction: 9 True Class: 9\n",
      "Test 74 Prediction: 9 True Class: 9\n",
      "Test 75 Prediction: 4 True Class: 4\n",
      "Test 76 Prediction: 1 True Class: 1\n",
      "Test 77 Prediction: 8 True Class: 8\n",
      "Test 78 Prediction: 2 True Class: 2\n",
      "Test 79 Prediction: 1 True Class: 1\n",
      "Test 80 Prediction: 2 True Class: 2\n",
      "Test 81 Prediction: 9 True Class: 9\n",
      "Test 82 Prediction: 7 True Class: 7\n",
      "Test 83 Prediction: 5 True Class: 5\n",
      "Test 84 Prediction: 9 True Class: 9\n",
      "Test 85 Prediction: 2 True Class: 2\n",
      "Test 86 Prediction: 6 True Class: 6\n",
      "Test 87 Prediction: 4 True Class: 4\n",
      "Test 88 Prediction: 1 True Class: 1\n",
      "Test 89 Prediction: 5 True Class: 5\n",
      "Test 90 Prediction: 9 True Class: 8\n",
      "Test 91 Prediction: 2 True Class: 2\n",
      "Test 92 Prediction: 9 True Class: 9\n",
      "Test 93 Prediction: 2 True Class: 2\n",
      "Test 94 Prediction: 0 True Class: 0\n",
      "Test 95 Prediction: 4 True Class: 4\n",
      "Test 96 Prediction: 0 True Class: 0\n",
      "Test 97 Prediction: 0 True Class: 0\n",
      "Test 98 Prediction: 2 True Class: 2\n",
      "Test 99 Prediction: 8 True Class: 8\n",
      "Test 100 Prediction: 1 True Class: 4\n",
      "Test 101 Prediction: 7 True Class: 7\n",
      "Test 102 Prediction: 1 True Class: 1\n",
      "Test 103 Prediction: 7 True Class: 2\n",
      "Test 104 Prediction: 9 True Class: 4\n",
      "Test 105 Prediction: 0 True Class: 0\n",
      "Test 106 Prediction: 2 True Class: 2\n",
      "Test 107 Prediction: 7 True Class: 7\n",
      "Test 108 Prediction: 4 True Class: 4\n",
      "Test 109 Prediction: 3 True Class: 3\n",
      "Test 110 Prediction: 3 True Class: 3\n",
      "Test 111 Prediction: 0 True Class: 0\n",
      "Test 112 Prediction: 0 True Class: 0\n",
      "Test 113 Prediction: 3 True Class: 3\n",
      "Test 114 Prediction: 1 True Class: 1\n",
      "Test 115 Prediction: 9 True Class: 9\n",
      "Test 116 Prediction: 6 True Class: 6\n",
      "Test 117 Prediction: 5 True Class: 5\n",
      "Test 118 Prediction: 0 True Class: 2\n",
      "Test 119 Prediction: 5 True Class: 5\n",
      "Test 120 Prediction: 1 True Class: 9\n",
      "Test 121 Prediction: 7 True Class: 2\n",
      "Test 122 Prediction: 9 True Class: 9\n",
      "Test 123 Prediction: 3 True Class: 3\n",
      "Test 124 Prediction: 0 True Class: 0\n",
      "Test 125 Prediction: 9 True Class: 4\n",
      "Test 126 Prediction: 1 True Class: 2\n",
      "Test 127 Prediction: 0 True Class: 0\n",
      "Test 128 Prediction: 7 True Class: 7\n",
      "Test 129 Prediction: 1 True Class: 1\n",
      "Test 130 Prediction: 1 True Class: 1\n",
      "Test 131 Prediction: 2 True Class: 2\n",
      "Test 132 Prediction: 1 True Class: 1\n",
      "Test 133 Prediction: 5 True Class: 5\n",
      "Test 134 Prediction: 3 True Class: 3\n",
      "Test 135 Prediction: 3 True Class: 3\n",
      "Test 136 Prediction: 9 True Class: 9\n",
      "Test 137 Prediction: 7 True Class: 7\n",
      "Test 138 Prediction: 3 True Class: 8\n",
      "Test 139 Prediction: 6 True Class: 6\n",
      "Test 140 Prediction: 5 True Class: 5\n",
      "Test 141 Prediction: 6 True Class: 6\n",
      "Test 142 Prediction: 1 True Class: 1\n",
      "Test 143 Prediction: 3 True Class: 3\n",
      "Test 144 Prediction: 8 True Class: 8\n",
      "Test 145 Prediction: 1 True Class: 1\n",
      "Test 146 Prediction: 0 True Class: 0\n",
      "Test 147 Prediction: 5 True Class: 5\n",
      "Test 148 Prediction: 1 True Class: 1\n",
      "Test 149 Prediction: 3 True Class: 3\n",
      "Test 150 Prediction: 1 True Class: 1\n",
      "Test 151 Prediction: 5 True Class: 5\n",
      "Test 152 Prediction: 5 True Class: 5\n",
      "Test 153 Prediction: 6 True Class: 6\n",
      "Test 154 Prediction: 1 True Class: 1\n",
      "Test 155 Prediction: 8 True Class: 8\n",
      "Test 156 Prediction: 5 True Class: 5\n",
      "Test 157 Prediction: 1 True Class: 1\n",
      "Test 158 Prediction: 4 True Class: 7\n",
      "Test 159 Prediction: 9 True Class: 9\n",
      "Test 160 Prediction: 4 True Class: 4\n",
      "Test 161 Prediction: 6 True Class: 6\n",
      "Test 162 Prediction: 2 True Class: 2\n",
      "Test 163 Prediction: 1 True Class: 2\n",
      "Test 164 Prediction: 5 True Class: 5\n",
      "Test 165 Prediction: 0 True Class: 0\n",
      "Test 166 Prediction: 6 True Class: 6\n",
      "Test 167 Prediction: 5 True Class: 5\n",
      "Test 168 Prediction: 6 True Class: 6\n",
      "Test 169 Prediction: 5 True Class: 3\n",
      "Test 170 Prediction: 7 True Class: 7\n",
      "Test 171 Prediction: 2 True Class: 2\n",
      "Test 172 Prediction: 0 True Class: 0\n",
      "Test 173 Prediction: 8 True Class: 8\n",
      "Test 174 Prediction: 8 True Class: 8\n",
      "Test 175 Prediction: 5 True Class: 5\n",
      "Test 176 Prediction: 9 True Class: 4\n",
      "Test 177 Prediction: 1 True Class: 1\n",
      "Test 178 Prediction: 1 True Class: 1\n",
      "Test 179 Prediction: 4 True Class: 4\n",
      "Test 180 Prediction: 0 True Class: 0\n",
      "Test 181 Prediction: 7 True Class: 3\n",
      "Test 182 Prediction: 3 True Class: 3\n",
      "Test 183 Prediction: 7 True Class: 7\n",
      "Test 184 Prediction: 6 True Class: 6\n",
      "Test 185 Prediction: 1 True Class: 1\n",
      "Test 186 Prediction: 6 True Class: 6\n",
      "Test 187 Prediction: 2 True Class: 2\n",
      "Test 188 Prediction: 1 True Class: 1\n",
      "Test 189 Prediction: 9 True Class: 9\n",
      "Test 190 Prediction: 2 True Class: 2\n",
      "Test 191 Prediction: 8 True Class: 8\n",
      "Test 192 Prediction: 6 True Class: 6\n",
      "Test 193 Prediction: 1 True Class: 1\n",
      "Test 194 Prediction: 9 True Class: 9\n",
      "Test 195 Prediction: 5 True Class: 5\n",
      "Test 196 Prediction: 2 True Class: 2\n",
      "Test 197 Prediction: 5 True Class: 5\n",
      "Test 198 Prediction: 4 True Class: 4\n",
      "Test 199 Prediction: 4 True Class: 4\n",
      "Done!\n",
      "Accuracy: 0.8800000000000007\n"
     ]
    }
   ],
   "source": [
    "with tf.Session() as sess:\n",
    "    sess.run(init)\n",
    "\n",
    "    # loop over test data\n",
    "    for i in range(len(Xte)):\n",
    "        # Get nearest neighbor\n",
    "        nn_index = sess.run(pred, feed_dict={xtr: Xtr, xte: Xte[i, :]})\n",
    "        # Get nearest neighbor class label and compare it to its true label\n",
    "        print(\"Test\", i, \"Prediction:\", np.argmax(Ytr[nn_index]), \\\n",
    "            \"True Class:\", np.argmax(Yte[i]))\n",
    "        # Calculate accuracy\n",
    "        if np.argmax(Ytr[nn_index]) == np.argmax(Yte[i]):\n",
    "            accuracy += 1./len(Xte)\n",
    "    print(\"Done!\")\n",
    "    print(\"Accuracy:\", accuracy)"
   ]
  },
  {
   "cell_type": "code",
   "execution_count": null,
   "metadata": {
    "collapsed": true
   },
   "outputs": [],
   "source": []
  }
 ],
 "metadata": {
  "kernelspec": {
   "display_name": "Python 3",
   "language": "python",
   "name": "python3"
  },
  "language_info": {
   "codemirror_mode": {
    "name": "ipython",
    "version": 3
   },
   "file_extension": ".py",
   "mimetype": "text/x-python",
   "name": "python",
   "nbconvert_exporter": "python",
   "pygments_lexer": "ipython3",
   "version": "3.5.2"
  }
 },
 "nbformat": 4,
 "nbformat_minor": 1
}
